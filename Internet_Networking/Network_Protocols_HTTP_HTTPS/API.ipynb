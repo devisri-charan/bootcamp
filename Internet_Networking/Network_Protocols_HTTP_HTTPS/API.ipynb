{
 "cells": [
  {
   "cell_type": "code",
   "execution_count": 1,
   "metadata": {},
   "outputs": [
    {
     "name": "stdout",
     "output_type": "stream",
     "text": [
      "Requirement already satisfied: requests in c:\\users\\valup\\appdata\\local\\packages\\pythonsoftwarefoundation.python.3.11_qbz5n2kfra8p0\\localcache\\local-packages\\python311\\site-packages (2.31.0)\n",
      "Requirement already satisfied: charset-normalizer<4,>=2 in c:\\users\\valup\\appdata\\local\\packages\\pythonsoftwarefoundation.python.3.11_qbz5n2kfra8p0\\localcache\\local-packages\\python311\\site-packages (from requests) (3.3.2)\n",
      "Requirement already satisfied: idna<4,>=2.5 in c:\\users\\valup\\appdata\\local\\packages\\pythonsoftwarefoundation.python.3.11_qbz5n2kfra8p0\\localcache\\local-packages\\python311\\site-packages (from requests) (3.6)\n",
      "Requirement already satisfied: urllib3<3,>=1.21.1 in c:\\users\\valup\\appdata\\local\\packages\\pythonsoftwarefoundation.python.3.11_qbz5n2kfra8p0\\localcache\\local-packages\\python311\\site-packages (from requests) (2.2.1)\n",
      "Requirement already satisfied: certifi>=2017.4.17 in c:\\users\\valup\\appdata\\local\\packages\\pythonsoftwarefoundation.python.3.11_qbz5n2kfra8p0\\localcache\\local-packages\\python311\\site-packages (from requests) (2024.2.2)\n",
      "Note: you may need to restart the kernel to use updated packages.\n"
     ]
    }
   ],
   "source": [
    "%pip install requests"
   ]
  },
  {
   "cell_type": "code",
   "execution_count": 2,
   "metadata": {},
   "outputs": [],
   "source": [
    "import requests"
   ]
  },
  {
   "cell_type": "code",
   "execution_count": 4,
   "metadata": {},
   "outputs": [
    {
     "data": {
      "text/plain": [
       "(200,\n",
       " {'Date': 'Wed, 12 Jun 2024 08:20:38 GMT', 'Content-Type': 'application/json', 'Transfer-Encoding': 'chunked', 'Connection': 'keep-alive', 'Vary': 'Origin, Access-Control-Request-Method, Access-Control-Request-Headers', 'CF-Cache-Status': 'DYNAMIC', 'Report-To': '{\"endpoints\":[{\"url\":\"https:\\\\/\\\\/a.nel.cloudflare.com\\\\/report\\\\/v4?s=R5cnYsQm6hDAztQ%2B0iE%2BpqY4AmMWh%2F5BQ881KcslbCjWF2aWB2FfPOJzjysGoMHZeCr%2FlD70Bl65ooPMmpHetSDtK%2FfsIw6zMgvotnnB%2FEEz0D3nnRwPM6jIdlRvZn9VjxOdRrTI\"}],\"group\":\"cf-nel\",\"max_age\":604800}', 'NEL': '{\"success_fraction\":0,\"report_to\":\"cf-nel\",\"max_age\":604800}', 'Server': 'cloudflare', 'CF-RAY': '89286c363cb344a1-SIN', 'Content-Encoding': 'gzip', 'alt-svc': 'h3=\":443\"; ma=86400'},\n",
       " {'id': '7',\n",
       "  'name': 'Apple MacBook Pro 16',\n",
       "  'data': {'year': 2019,\n",
       "   'price': 1849.99,\n",
       "   'CPU model': 'Intel Core i9',\n",
       "   'Hard disk size': '1 TB'}},\n",
       " 200,\n",
       " {'Date': 'Wed, 12 Jun 2024 08:20:40 GMT', 'Content-Type': 'application/json', 'Transfer-Encoding': 'chunked', 'Connection': 'keep-alive', 'Vary': 'Origin, Access-Control-Request-Method, Access-Control-Request-Headers', 'CF-Cache-Status': 'DYNAMIC', 'Report-To': '{\"endpoints\":[{\"url\":\"https:\\\\/\\\\/a.nel.cloudflare.com\\\\/report\\\\/v4?s=y2s41nX%2FrKpm7nuBl2tMIerGe1FEtYb7N8NH461AujRe3nSStsCJOgwRE6uk4s5t4ZMyr43IAQ6he9ksUxGgJnyJBkmhAOgBgI6BGvjW0vaQ3q4NsYuGikGUZEGQMhpmXMMiMLEi\"}],\"group\":\"cf-nel\",\"max_age\":604800}', 'NEL': '{\"success_fraction\":0,\"report_to\":\"cf-nel\",\"max_age\":604800}', 'Server': 'cloudflare', 'CF-RAY': '89286c42ff1a5627-SIN', 'Content-Encoding': 'gzip', 'alt-svc': 'h3=\":443\"; ma=86400'},\n",
       " {'id': 'ff8081818feaa6c401900b88e6e134ba',\n",
       "  'name': 'Apple MacBook Pro 16',\n",
       "  'createdAt': '2024-06-12T08:20:39.789+00:00',\n",
       "  'data': {'year': 2019,\n",
       "   'price': 1849.99,\n",
       "   'CPU model': 'Intel Core i9',\n",
       "   'Hard disk size': '1 TB'}})"
      ]
     },
     "execution_count": 4,
     "metadata": {},
     "output_type": "execute_result"
    }
   ],
   "source": [
    "get_url = \"https://api.restful-api.dev/objects/7\"\n",
    "\n",
    "# Send a GET Request\n",
    "get_response = requests.get(get_url)\n",
    "get_status_code = get_response.status_code\n",
    "get_headers = get_response.headers\n",
    "get_response_json = get_response.json()\n",
    "\n",
    "post_url = \"https://api.restful-api.dev/objects\"\n",
    "\n",
    "post_data = {\n",
    "   \"name\": \"Apple MacBook Pro 16\",\n",
    "   \"data\": {\n",
    "      \"year\": 2019,\n",
    "      \"price\": 1849.99,\n",
    "      \"CPU model\": \"Intel Core i9\",\n",
    "      \"Hard disk size\": \"1 TB\"\n",
    "   }\n",
    "}\n",
    "\n",
    "# Send a POST request\n",
    "post_response = requests.post(post_url, json=post_data)\n",
    "post_status_code = post_response.status_code\n",
    "post_headers = post_response.headers\n",
    "post_response_json = post_response.json()\n",
    "\n",
    "(get_status_code, get_headers, get_response_json,post_status_code, post_headers, post_response_json)"
   ]
  }
 ],
 "metadata": {
  "kernelspec": {
   "display_name": "Python 3",
   "language": "python",
   "name": "python3"
  },
  "language_info": {
   "codemirror_mode": {
    "name": "ipython",
    "version": 3
   },
   "file_extension": ".py",
   "mimetype": "text/x-python",
   "name": "python",
   "nbconvert_exporter": "python",
   "pygments_lexer": "ipython3",
   "version": "3.11.9"
  }
 },
 "nbformat": 4,
 "nbformat_minor": 2
}
